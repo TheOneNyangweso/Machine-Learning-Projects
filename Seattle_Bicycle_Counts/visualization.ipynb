{
 "cells": [
  {
   "cell_type": "markdown",
   "metadata": {},
   "source": [
    "### Visualizing Seattle Bicycle Counts\n",
    "This notebook is an example of working with time series data\\\n",
    "We'll be looking at the bicycle counts in Seattle's Fremont Bridge\\\n",
    "This data comes from an automated bicycle counter, installed in late 2012,\\\n",
    "which has inductive sensors on the east and west sidewalks of the bridge. \\\n",
    "The hourly bicycle counts can be downloaded from http://data.seattle.gov/;"
   ]
  },
  {
   "cell_type": "markdown",
   "metadata": {},
   "source": [
    "1. Downloading the dataset"
   ]
  },
  {
   "cell_type": "code",
   "execution_count": null,
   "metadata": {},
   "outputs": [],
   "source": [
    "# uncomment and run the cell\n",
    "# !curl -o FremontBridge.csv https://data.seattle.gov/api/views/65db-xm6k/rows.csv?accessType=DOWNLOAD"
   ]
  },
  {
   "cell_type": "code",
   "execution_count": null,
   "metadata": {},
   "outputs": [],
   "source": [
    "# standard imports\n",
    "%matplotlib inline\n",
    "import pandas as pd\n",
    "import numpy as np\n",
    "import matplotlib.pyplot as plt\n",
    "import seaborn as sns; sns.set()"
   ]
  },
  {
   "cell_type": "code",
   "execution_count": null,
   "metadata": {},
   "outputs": [],
   "source": [
    "path = '/home/nyangweso/Desktop/Ds_1/Machine-Learning-Projects/Seattle_Bicycle_Counts/FremontBridge.csv'"
   ]
  },
  {
   "cell_type": "code",
   "execution_count": null,
   "metadata": {},
   "outputs": [],
   "source": [
    "data = pd.read_csv(path, index_col=\"Date\", parse_dates=True)\n",
    "data.head()"
   ]
  },
  {
   "cell_type": "code",
   "execution_count": null,
   "metadata": {},
   "outputs": [],
   "source": [
    "# renaming columns for convenience\n",
    "data.columns = [\"Total\", \"East\", \"West\"]"
   ]
  },
  {
   "cell_type": "markdown",
   "metadata": {},
   "source": [
    "2. Rearranging colummns"
   ]
  },
  {
   "cell_type": "code",
   "execution_count": null,
   "metadata": {},
   "outputs": [],
   "source": [
    "cols = list(data.columns)\n",
    "data = data[cols[1:3] + [cols[0]]]\n",
    "data.head()"
   ]
  },
  {
   "cell_type": "markdown",
   "metadata": {},
   "source": [
    "3. Get summary statistics"
   ]
  },
  {
   "cell_type": "code",
   "execution_count": null,
   "metadata": {},
   "outputs": [],
   "source": [
    "data.dropna().describe()"
   ]
  },
  {
   "cell_type": "markdown",
   "metadata": {},
   "source": [
    "#### Visualizing the data\n",
    "Let's visualize the dataset inorder to get the insight"
   ]
  },
  {
   "cell_type": "markdown",
   "metadata": {},
   "source": [
    "4. Plotting raw data"
   ]
  },
  {
   "cell_type": "code",
   "execution_count": null,
   "metadata": {},
   "outputs": [],
   "source": [
    "data.plot()\n",
    "plt.ylabel(\"Hourly bicycle count\")"
   ]
  },
  {
   "cell_type": "markdown",
   "metadata": {},
   "source": [
    "5. Resampling the data\\\n",
    "<br>\n",
    "The data we have is far to dense for us to get any sense out of it\\\n",
    "We can get more insight by resampling the data to a coarser grid"
   ]
  },
  {
   "cell_type": "code",
   "execution_count": null,
   "metadata": {},
   "outputs": [],
   "source": [
    "weekly = data.resample(\"W\").sum()\n",
    "weekly.plot(style=[\":\", \"--\", \"-\"])\n",
    "plt.ylabel(\"Weekly bicycle count\")"
   ]
  },
  {
   "cell_type": "markdown",
   "metadata": {},
   "source": [
    "Another handy method is to perform aggregation using rolling() "
   ]
  },
  {
   "cell_type": "code",
   "execution_count": null,
   "metadata": {},
   "outputs": [],
   "source": [
    "daily = data.resample(\"D\").sum()\n",
    "daily.rolling(30, center=True).sum().plot(style=[\":\", \"--\", \"-\"])\n",
    "plt.ylabel(\"mean hourly count\")"
   ]
  },
  {
   "cell_type": "markdown",
   "metadata": {},
   "source": [
    "We can get a smoother version of the results using a window function e.g a Gaussian window\\\n",
    "we can specify the width of the window(I chose 50 for this case) and the width of the gaussian within the window(I chose 10)"
   ]
  },
  {
   "cell_type": "code",
   "execution_count": null,
   "metadata": {},
   "outputs": [],
   "source": [
    "daily.rolling(50, center=True, win_type=\"gaussian\").sum(std=10).plot(\n",
    "    style=[\":\", \"--\", \"-\"]\n",
    ")"
   ]
  },
  {
   "cell_type": "markdown",
   "metadata": {},
   "source": [
    "#### Digging into the data\n",
    "6. Average traffic as a function of the time of day"
   ]
  },
  {
   "cell_type": "code",
   "execution_count": null,
   "metadata": {},
   "outputs": [],
   "source": [
    "by_time = data.groupby(data.index.time).mean()\n",
    "hourly_ticks = 4 * 60 * 60 * np.arange(6)\n",
    "by_time.plot(xticks=hourly_ticks, style=[\":\", \"--\", \"-\"])"
   ]
  },
  {
   "cell_type": "markdown",
   "metadata": {},
   "source": [
    "We can see the peak hours are around 0800 and 1700\\\n",
    "Let's look how weekly data looks like"
   ]
  },
  {
   "cell_type": "code",
   "execution_count": null,
   "metadata": {},
   "outputs": [],
   "source": [
    "by_weekday = data.groupby(data.index.dayofweek).mean()\n",
    "by_weekday.index = [\"Mon\", \"Tues\", \"Wed\", \"Thurs\", \"Fri\", \"Sat\", \"Sun\"]\n",
    "by_weekday.plot(style=[\":\", \"--\", \"-\"])"
   ]
  },
  {
   "cell_type": "markdown",
   "metadata": {},
   "source": [
    "This shows a strong distinction between weekday and weekend totals, with around\\\n",
    "twice as many average riders crossing the bridge on Monday through Friday than on\\\n",
    "Saturday and Sunday."
   ]
  },
  {
   "cell_type": "markdown",
   "metadata": {},
   "source": [
    "With this in mind, let's get our hands dirty.\\\n",
    "First let us look at the hourly trend on weekdays vs weekends."
   ]
  },
  {
   "cell_type": "code",
   "execution_count": null,
   "metadata": {},
   "outputs": [],
   "source": [
    "weekend = np.where(data.index.weekday < 5, \"Weekday\", \"Weekend\")\n",
    "by_time = data.groupby([weekend, data.index.time]).mean()"
   ]
  },
  {
   "cell_type": "code",
   "execution_count": null,
   "metadata": {},
   "outputs": [],
   "source": [
    "fig, ax = plt.subplots(1, 2, figsize=(14, 5))\n",
    "by_time.loc[\"Weekday\"].plot(\n",
    "    ax=ax[0], title=\"Weekdays\", xticks=hourly_ticks, style=[\":\", \"--\", \"-\"]\n",
    ")\n",
    "by_time.loc[\"Weekend\"].plot(\n",
    "    ax=ax[1], title=\"Weekends\", xticks=hourly_ticks, style=[\":\", \"--\", \"-\"]\n",
    ")"
   ]
  },
  {
   "cell_type": "markdown",
   "metadata": {},
   "source": [
    "The result is very interesting:\n",
    "* We see a bimodal commute pattern during the work week, \n",
    "* and a unimodal recreational pattern during the weekends."
   ]
  }
 ],
 "metadata": {
  "kernelspec": {
   "display_name": "base",
   "language": "python",
   "name": "python3"
  },
  "language_info": {
   "codemirror_mode": {
    "name": "ipython",
    "version": 3
   },
   "file_extension": ".py",
   "mimetype": "text/x-python",
   "name": "python",
   "nbconvert_exporter": "python",
   "pygments_lexer": "ipython3",
   "version": "3.11.4"
  }
 },
 "nbformat": 4,
 "nbformat_minor": 2
}

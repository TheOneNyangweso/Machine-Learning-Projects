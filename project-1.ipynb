{
 "cells": [
  {
   "cell_type": "code",
   "execution_count": 50,
   "metadata": {},
   "outputs": [],
   "source": [
    "import pandas as pd\n",
    "import numpy as np\n",
    "import json\n",
    "from sklearn.model_selection import train_test_split\n"
   ]
  },
  {
   "cell_type": "code",
   "execution_count": 23,
   "metadata": {},
   "outputs": [],
   "source": [
    "# Use path to file here...I like absolute path to minimize errors\n",
    "file = \"/home/nyangweso/Desktop/Ds_1/Machine-Learning-Projects/data/sentiment/Books_small.json\""
   ]
  },
  {
   "cell_type": "markdown",
   "metadata": {},
   "source": [
    "We use classes to store the details and help make the code look cleaner"
   ]
  },
  {
   "cell_type": "code",
   "execution_count": 49,
   "metadata": {},
   "outputs": [],
   "source": [
    "# A C like enum class\n",
    "class Sentiment:\n",
    "    NEG = \"NEGATIVE\"\n",
    "    NEUTRAL = \"NEUTRAL\"\n",
    "    POS = \"POSITIVE\""
   ]
  },
  {
   "cell_type": "code",
   "execution_count": 56,
   "metadata": {},
   "outputs": [],
   "source": [
    "class Review:\n",
    "    def __init__(self, comment, rating) -> None:\n",
    "        self.comment = comment\n",
    "        self.rating = rating\n",
    "        self.sentiment = self.get_sentiment()\n",
    "\n",
    "    def get_sentiment(self):\n",
    "        if self.rating <= 2:\n",
    "            return Sentiment.NEG\n",
    "        elif self.rating == 3:\n",
    "            return Sentiment.NEUTRAL\n",
    "        else:\n",
    "            return Sentiment.POS\n",
    "\n",
    "    def __repr__(self) -> str:\n",
    "        pass\n"
   ]
  },
  {
   "cell_type": "code",
   "execution_count": 47,
   "metadata": {},
   "outputs": [],
   "source": [
    "reviews = []\n",
    "with open(file) as f:\n",
    "    for line in f:\n",
    "        data = json.loads(line)\n",
    "        reviews.append(Review(data[\"reviewText\"], data[\"overall\"]))\n"
   ]
  },
  {
   "cell_type": "code",
   "execution_count": 48,
   "metadata": {},
   "outputs": [
    {
     "name": "stdout",
     "output_type": "stream",
     "text": [
      "I adored this book.  Sydney and Kyler have been bffs forever and in love but too chicken to tell each other (a favorite trope of mine) how they feel. Syd thinks manwhore Kyler could never be attracted to her and Kyler thinks ms-i-plan-for-everything Sydney deserves better than his douchy self. When they get stuck in a snow storm, truths come out.Syd was a bit insecure and Kyler was a bit hobag but the way their story played out warmed my heart which is why I say 5 This is Forever stars. It wasn't perfect but it was perfect for me and I smiled like a goofball throughout. \n",
      "rating = 5.0 \n",
      "Rating is POSITIVE\n"
     ]
    }
   ],
   "source": [
    "# to access a single comment and rating, and its sentiment\n",
    "n = 68\n",
    "print(\n",
    "    f\"{reviews[n].comment} \\nRating = {reviews[n].rating} \\nRating is {reviews[n].sentiment}\"\n",
    ")\n"
   ]
  },
  {
   "cell_type": "markdown",
   "metadata": {},
   "source": [
    "#### Preparing Data"
   ]
  },
  {
   "cell_type": "code",
   "execution_count": 51,
   "metadata": {},
   "outputs": [],
   "source": [
    "training, test = train_test_split(reviews, test_size=0.33, random_state=42)"
   ]
  },
  {
   "cell_type": "code",
   "execution_count": 52,
   "metadata": {},
   "outputs": [
    {
     "data": {
      "text/plain": [
       "0.33"
      ]
     },
     "execution_count": 52,
     "metadata": {},
     "output_type": "execute_result"
    }
   ],
   "source": [
    "len(test) / len(reviews)"
   ]
  },
  {
   "cell_type": "code",
   "execution_count": 62,
   "metadata": {},
   "outputs": [],
   "source": [
    "# Training models\n",
    "train_x = [a.comment for a in training]\n",
    "train_y = [a.sentiment for a in training]\n",
    "\n",
    "# Test models\n",
    "test_x = [a.comment for a in test]\n",
    "test_y = [a.sentiment for a in test]"
   ]
  },
  {
   "cell_type": "code",
   "execution_count": null,
   "metadata": {},
   "outputs": [],
   "source": []
  }
 ],
 "metadata": {
  "kernelspec": {
   "display_name": "Python 3",
   "language": "python",
   "name": "python3"
  },
  "language_info": {
   "codemirror_mode": {
    "name": "ipython",
    "version": 3
   },
   "file_extension": ".py",
   "mimetype": "text/x-python",
   "name": "python",
   "nbconvert_exporter": "python",
   "pygments_lexer": "ipython3",
   "version": "3.10.10"
  },
  "orig_nbformat": 4
 },
 "nbformat": 4,
 "nbformat_minor": 2
}

{
 "cells": [
  {
   "cell_type": "code",
   "execution_count": null,
   "metadata": {},
   "outputs": [],
   "source": [
    "import pandas as pd\n",
    "import numpy as np\n",
    "from ydata_profiling import ProfileReport\n"
   ]
  },
  {
   "cell_type": "code",
   "execution_count": null,
   "metadata": {},
   "outputs": [],
   "source": [
    "df_4 = pd.read_excel(\n",
    "    \"/home/nyangweso/Desktop/Ds_1/Machine-Learning-Projects/575.xlsx\")\n"
   ]
  },
  {
   "cell_type": "markdown",
   "metadata": {},
   "source": [
    "#### A quick function to separate list values such that each value is in it's own column\n",
    "Background problem : I had a dataset which had some column values inform of a string\\\n",
    "which looked like a list e.g '[a, b, c, d, e]' \\\n",
    "but can also apply to data values which are lists e.g [a, b, c, d, e]"
   ]
  },
  {
   "cell_type": "code",
   "execution_count": null,
   "metadata": {},
   "outputs": [],
   "source": [
    "import ast\n",
    "import pandas as pd\n",
    "\n",
    "\n",
    "def list_separator(dataframe, column: str, column_names: list, inplace: bool = False):\n",
    "    \"\"\"\n",
    "    Args:\n",
    "        dataframe : The Pandas DataFrame or Series object with list values\n",
    "        column : Column to Work on (single column allowed for now)\n",
    "        column_names (list): Names of the new columns\n",
    "        inplace (bool, optional): Defaults to False.\n",
    "            Return a new dataframe (default) or remove the passed column and replace it with the generated columns\n",
    "\n",
    "    Returns:\n",
    "        DataFrame Object:\n",
    "                Returns new dataframe object if inplace set to true\n",
    "                esle returns passed dataframe with passed column replaced\n",
    "    \"\"\"\n",
    "    # Get index of current column\n",
    "    cols = list(dataframe.columns)\n",
    "    length = len(cols)\n",
    "    index = [index for index, value in enumerate(cols) if value == column][0]\n",
    "\n",
    "    # Convert string values to lists\n",
    "    copy = dataframe.copy(deep=True)\n",
    "    copy[column] = copy[column].apply(ast.literal_eval)\n",
    "\n",
    "    # Reshape the values to match the expected shape\n",
    "    reshaped_values = copy[column].to_list()\n",
    "    new_df = pd.DataFrame(reshaped_values, columns=column_names)\n",
    "\n",
    "    if inplace == False:\n",
    "        # Return a new dataframe with only the affected column split\n",
    "        return new_df\n",
    "    else:  # if inplace is non-zero value\n",
    "        dataframe = dataframe.merge(\n",
    "            right=new_df, left_index=True, right_index=True, how=\"outer\"\n",
    "        )\n",
    "        dataframe = dataframe.drop(columns=[column])\n",
    "\n",
    "        # Rearranging the resultant dataframe\n",
    "        dataframe = dataframe[\n",
    "            cols[0:index] + [cols[index]] + cols[index: (length - 1)]\n",
    "        ]\n",
    "        return dataframe\n"
   ]
  },
  {
   "cell_type": "code",
   "execution_count": null,
   "metadata": {},
   "outputs": [],
   "source": [
    "cols = list(df_4.columns)\n",
    "length = len(cols)\n",
    "index = [index for index, value in enumerate(cols) if value == \"prev_pip\"][0]"
   ]
  },
  {
   "cell_type": "code",
   "execution_count": null,
   "metadata": {},
   "outputs": [],
   "source": [
    "df_4 = df_4[cols[0:index] + [cols[index]] + cols[index : (length - 1)]]"
   ]
  },
  {
   "cell_type": "code",
   "execution_count": null,
   "metadata": {},
   "outputs": [],
   "source": [
    "df_4.drop(columns=)\n"
   ]
  },
  {
   "cell_type": "code",
   "execution_count": null,
   "metadata": {},
   "outputs": [],
   "source": [
    "column_names = list(\"987654321\")\n",
    "column_names\n"
   ]
  },
  {
   "cell_type": "code",
   "execution_count": null,
   "metadata": {},
   "outputs": [],
   "source": [
    "name = \"previous 9 number\"\n",
    "column_names = list(\"987654321\")\n"
   ]
  },
  {
   "cell_type": "code",
   "execution_count": null,
   "metadata": {},
   "outputs": [],
   "source": [
    "# name = 'previous 9 number'\n",
    "a = list_separator(dataframe=df_4, column=name,\n",
    "                   column_names=column_names, inplace=True)\n"
   ]
  },
  {
   "cell_type": "code",
   "execution_count": null,
   "metadata": {},
   "outputs": [],
   "source": [
    "df_4.head()"
   ]
  },
  {
   "cell_type": "code",
   "execution_count": null,
   "metadata": {},
   "outputs": [],
   "source": [
    "a.head()"
   ]
  },
  {
   "cell_type": "code",
   "execution_count": null,
   "metadata": {},
   "outputs": [],
   "source": []
  }
 ],
 "metadata": {
  "kernelspec": {
   "display_name": "base",
   "language": "python",
   "name": "python3"
  },
  "language_info": {
   "codemirror_mode": {
    "name": "ipython",
    "version": 3
   },
   "file_extension": ".py",
   "mimetype": "text/x-python",
   "name": "python",
   "nbconvert_exporter": "python",
   "pygments_lexer": "ipython3",
   "version": "3.10.10"
  }
 },
 "nbformat": 4,
 "nbformat_minor": 2
}
